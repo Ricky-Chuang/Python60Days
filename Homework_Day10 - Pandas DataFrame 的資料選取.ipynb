{
 "cells": [
  {
   "cell_type": "markdown",
   "metadata": {
    "colab_type": "text",
    "id": "P6xk2_jLsvFF"
   },
   "source": [
    "# [作業目標]\n",
    "\n",
    "1. [簡答題] 請問下列四種不同的 DataFrame 選取結果有什麼差異？\n",
    "\n",
    "```\n",
    "df.loc[ '2013-01-01', 'A'] \n",
    "df.loc[ '2013-01-01', ['A', 'B'] ] \n",
    "df.loc[ '2013-01-01':'2013-01-02', 'A' ] \n",
    "df.loc[ '2013-01-01':'2013-01-05', 'A':'C'] \n",
    "```\n",
    "\n",
    "\n",
    "2. 請根據提供的資料，選擇出下列的要求：\n",
    "\n",
    "```\n",
    "# - select the first 3 rows.\n",
    "# - select the odd rows. (index = 1, 3, 5)\n",
    "# - select the last 2 columns.\n",
    "# - select the even columns. (index = 0, 2, 4)\n",
    "```\n",
    "\n",
    "3. 請根據提供的資料，選擇出下列的要求：\n",
    "\n",
    "```\n",
    "# - 1. filtered by first column > 20?\n",
    "# - 2. filtered by first column + second column > 50\n",
    "# - 3. filtered by first column < 30 or second column > 30\n",
    "# - 4. filtered by total sum of row > 100\n",
    "```"
   ]
  },
  {
   "cell_type": "markdown",
   "metadata": {
    "colab_type": "text",
    "id": "uXGll28asvFS"
   },
   "source": [
    "# 作業 "
   ]
  },
  {
   "cell_type": "markdown",
   "metadata": {},
   "source": [
    "### 1. [簡答題] 請問下列四種不同的 DataFrame 選取結果有什麼差異？\n",
    "\n",
    "```\n",
    "df.loc[ '2013-01-01', 'A'] \n",
    "df.loc[ '2013-01-01', ['A', 'B'] ] \n",
    "df.loc[ '2013-01-01':'2013-01-02', 'A' ] \n",
    "df.loc[ '2013-01-01':'2013-01-05', 'A':'C'] \n",
    "```\n",
    "\n",
    "\n",
    "\n"
   ]
  },
  {
   "cell_type": "code",
   "execution_count": null,
   "metadata": {
    "colab": {},
    "colab_type": "code",
    "id": "5QrYoyNWsvFS"
   },
   "outputs": [],
   "source": [
    "# 1. 選擇2013-01-01列，以及'A'欄位\r\n",
    "# 2. 選擇2013-01-01列，以及'A','B'欄位\r\n",
    "# 3. 選擇2013-01-01 ~ 2013-01-02列，以及'A'欄位\r\n",
    "# 4. 選擇2013-01-01 ~ 2013-01-05列，以及'A', 'C'欄位"
   ]
  },
  {
   "cell_type": "markdown",
   "metadata": {},
   "source": [
    "### 2. 請根據提供的資料，選擇出下列的要求：\n",
    "\n",
    "```\n",
    "# - select the first 3 rows.\n",
    "# - select the odd rows. (index = 1, 3, 5)\n",
    "# - select the last 2 columns.\n",
    "# - select the even columns. (index = 0, 2, 4)\n",
    "```\n"
   ]
  },
  {
   "cell_type": "code",
   "execution_count": 3,
   "metadata": {},
   "outputs": [],
   "source": [
    "# 記得先 Import 正確的套件\r\n",
    "import pandas as pd\r\n",
    "import numpy as np"
   ]
  },
  {
   "cell_type": "code",
   "execution_count": 38,
   "metadata": {
    "colab": {},
    "colab_type": "code",
    "id": "e1gVI0tvsvFY"
   },
   "outputs": [
    {
     "name": "stdout",
     "output_type": "stream",
     "text": [
      "       col1      col2      col3\n",
      "0  1.607624 -1.924099  0.586651\n",
      "1 -0.550668 -0.763043 -0.669920\n",
      "2 -1.369606 -0.258387  1.528109\n",
      "       col1      col2      col3\n",
      "1 -0.550668 -0.763043 -0.669920\n",
      "3 -1.807221 -1.398406 -0.587303\n",
      "5 -0.691368 -0.871191 -0.232242\n"
     ]
    }
   ],
   "source": [
    "df = pd.DataFrame(np.random.randn(6,3),columns=['col1','col2','col3'])\r\n",
    "print(df.head(3))\r\n",
    "print(df[1::2])"
   ]
  },
  {
   "cell_type": "code",
   "execution_count": 37,
   "metadata": {},
   "outputs": [
    {
     "name": "stdout",
     "output_type": "stream",
     "text": [
      "     0   1   2   3\n",
      "13  11  21  17  12\n",
      "14  30  18  22  11\n",
      "     0   2\n",
      "0   17  26\n",
      "1   29  35\n",
      "2   38  27\n",
      "3   11  29\n",
      "4   31  34\n",
      "5   22  31\n",
      "6   10  34\n",
      "7   25  19\n",
      "8   13  18\n",
      "9   19  36\n",
      "10  19  23\n",
      "11  34  12\n",
      "12  33  21\n",
      "13  11  17\n",
      "14  30  22\n"
     ]
    }
   ],
   "source": [
    "print(df.tail(2))\r\n",
    "print(df.loc[:,0::2])"
   ]
  },
  {
   "cell_type": "markdown",
   "metadata": {},
   "source": [
    "### 3. 請根據提供的資料，選擇出下列的要求：\n",
    "\n",
    "```\n",
    "# - 1. filtered by first column > 20?\n",
    "# - 2. filtered by first column + second column > 50\n",
    "# - 3. filtered by first column < 30 or second column > 30\n",
    "# - 4. filtered by total sum of row > 100\n",
    "```"
   ]
  },
  {
   "cell_type": "code",
   "execution_count": 55,
   "metadata": {},
   "outputs": [
    {
     "name": "stdout",
     "output_type": "stream",
     "text": [
      "0    22\n",
      "1    36\n",
      "2    38\n",
      "3    39\n",
      "6    32\n",
      "7    29\n",
      "8    35\n",
      "9    30\n",
      "Name: 0, dtype: int32\n",
      "    0   1   2   3\n",
      "0  22  30  32  25\n",
      "1  36  23  12  18\n",
      "3  39  13  35  20\n",
      "6  32  31  39  22\n",
      "7  29  29  35  34\n",
      "8  35  26  16  25\n"
     ]
    }
   ],
   "source": [
    "df = pd.DataFrame(np.random.randint(10, 40, 60).reshape(-1, 4))\r\n",
    "print(df[0][df[0]>20])\r\n",
    "print(df[(df[0]+df[1])>50])\r\n"
   ]
  },
  {
   "cell_type": "code",
   "execution_count": 53,
   "metadata": {},
   "outputs": [
    {
     "name": "stdout",
     "output_type": "stream",
     "text": [
      "     0   1   2   3\n",
      "0   32  28  39  18\n",
      "1   24  24  20  12\n",
      "2   21  15  20  32\n",
      "3   20  28  14  37\n",
      "5   34  32  13  24\n",
      "6   14  22  20  14\n",
      "7   37  15  20  17\n",
      "8   33  20  15  18\n",
      "9   36  32  30  33\n",
      "10  20  29  15  26\n",
      "11  35  11  26  23\n",
      "12  27  23  24  33\n",
      "14  14  24  36  39\n",
      "     0   1   2   3\n",
      "0   32  28  39  18\n",
      "5   34  32  13  24\n",
      "9   36  32  30  33\n",
      "12  27  23  24  33\n",
      "14  14  24  36  39\n"
     ]
    }
   ],
   "source": [
    "print(df[(df[0]>30) | (df[1]<30)])\r\n",
    "print(df[df.sum(axis=1)>100])"
   ]
  }
 ],
 "metadata": {
  "colab": {
   "name": "Day_023_HW.ipynb",
   "provenance": []
  },
  "interpreter": {
   "hash": "9aa70a46812f39127d0f7df682fa2efaaa6bd3f59a7c298fbae55f733a33f7da"
  },
  "kernelspec": {
   "display_name": "Python 3.8.5 64-bit",
   "name": "python3"
  },
  "language_info": {
   "codemirror_mode": {
    "name": "ipython",
    "version": 3
   },
   "file_extension": ".py",
   "mimetype": "text/x-python",
   "name": "python",
   "nbconvert_exporter": "python",
   "pygments_lexer": "ipython3",
   "version": "3.8.5"
  }
 },
 "nbformat": 4,
 "nbformat_minor": 1
}